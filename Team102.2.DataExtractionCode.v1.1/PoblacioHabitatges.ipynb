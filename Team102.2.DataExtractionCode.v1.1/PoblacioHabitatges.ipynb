{
 "cells": [
  {
   "cell_type": "code",
   "execution_count": 23,
   "metadata": {},
   "outputs": [],
   "source": [
    "import requests\n",
    "import csv\n",
    "import pandas as pd"
   ]
  },
  {
   "cell_type": "code",
   "execution_count": 24,
   "metadata": {},
   "outputs": [],
   "source": [
    "# Creating the empty dataset with the column names, take any municipi\n",
    "def create_dataset(municipi_code):\n",
    "    concepteids = ['f69', 'f72', 'f73', 'f74', 'f183', 'f184', 'f263', 'f380', 'f381', 'f98', 'f99', 'f100', 'f101', 'f107', 'f109', 'f111', 'f112', 'f113', 'f115', 'f221', 'f222', 'f223', 'f60', 'f242', 'f250', 'f120', 'f122', 'f126', 'f128', 'f131', 'f190', 'f191', 'f193', 'f385']\n",
    "\n",
    "    url = f\"https://www.idescat.cat/emex/?id={municipi_code}&f=ssv\"\n",
    "    df = pd.read_csv(url, skiprows=5, delimiter=\";\")\n",
    "    df = df[df[\"concepteid\"].isin(concepteids)]\n",
    "    df[\"unitat\"] = df[\"unitat\"].fillna('').astype(str)\n",
    "    df['concepte'] = df.agg('{0[taula]} - {0[concepte]} ({0[temps]}) {0[unitat]}'.format, axis=1)\n",
    "    df.drop(['tema', 'temaid', 'taulaid', 'concepteid', 'font', 'valorcom', 'valorcat', 'taula', 'temps', 'unitat'], axis=1, inplace=True)\n",
    "    cols = [\"muncipi\"] + list(df[\"concepte\"])\n",
    "    values = [municipi_code] + [x.replace(',', '.') for x in list(df[\"valormun\"])]\n",
    "    return pd.DataFrame(columns=cols, data=[values])"
   ]
  },
  {
   "cell_type": "code",
   "execution_count": 25,
   "metadata": {},
   "outputs": [],
   "source": [
    "codis_municipis = ['430120', '439076', '430430', '430477', '430509', '430957', '430976', '431009', '431037', '431093', '431114', '431227', '431264', '431310', '431359', '439057', '431444', '431482', '431536', '431649', '431711', '431665']\n",
    "df = create_dataset(codis_municipis[0])\n",
    "for municipi_code in codis_municipis[1:]:\n",
    "    try:\n",
    "        dfnew = create_dataset(municipi_code)\n",
    "        df = pd.concat([df, dfnew])\n",
    "    except:\n",
    "        print(municipi_code)\n"
   ]
  },
  {
   "cell_type": "code",
   "execution_count": 26,
   "metadata": {},
   "outputs": [],
   "source": [
    "df = df.apply(pd.to_numeric)\n",
    "# Save into excel file\n",
    "df.to_excel(\"output/poblacio_habitatges.xlsx\", index=False)"
   ]
  }
 ],
 "metadata": {
  "interpreter": {
   "hash": "31f2aee4e71d21fbe5cf8b01ff0e069b9275f58929596ceb00d14d90e3e16cd6"
  },
  "kernelspec": {
   "display_name": "Python 3.8.9 64-bit",
   "name": "python3"
  },
  "language_info": {
   "codemirror_mode": {
    "name": "ipython",
    "version": 3
   },
   "file_extension": ".py",
   "mimetype": "text/x-python",
   "name": "python",
   "nbconvert_exporter": "python",
   "pygments_lexer": "ipython3",
   "version": "3.8.9"
  },
  "orig_nbformat": 4
 },
 "nbformat": 4,
 "nbformat_minor": 2
}
