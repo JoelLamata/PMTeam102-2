{
 "cells": [
  {
   "cell_type": "code",
   "execution_count": 2,
   "metadata": {},
   "outputs": [],
   "source": [
    "import pandas as pd\n",
    "from sodapy import Socrata\n",
    "import pickle, io\n",
    "import openpyxl\n",
    "import matplotlib.pyplot as plt\n",
    "import matplotlib"
   ]
  },
  {
   "cell_type": "code",
   "execution_count": 3,
   "metadata": {},
   "outputs": [],
   "source": [
    "# Add codes for more cities\n",
    "codis_municipis = ['430120', '439076', '430430', '430477', '430509', '430957', '430976', '431009', '431037', '431093', '431114', '431227', '431264', '431310', '431359', '439057', '431444', '431482', '431536', '431649', '431711', '431665']"
   ]
  },
  {
   "cell_type": "code",
   "execution_count": 4,
   "metadata": {},
   "outputs": [],
   "source": [
    "# DON'T EXECUTE MANY TIMES: a file will be saved so no need to access the API more than once.\n",
    "\n",
    "# https://analisi.transparenciacatalunya.cat/Habitatge/Preu-mitj-del-lloguer-d-habitatges-per-municipi/qww9-bvhh\n",
    "\n",
    "client = Socrata(\"analisi.transparenciacatalunya.cat\",\n",
    "                 \"s4YrtY4AKxmM0rFio3wIMDn8Y\")\n",
    "\n",
    "query = \"\"\"\n",
    "SELECT \n",
    "    `codi_territorial`, `nom_territori`, `any`, `periode`, `habitatges`, `renda` \n",
    "WHERE \n",
    "    `codi_territorial` IN ('43012','43907','43043','43047','43050','43095','43097','43100','43103','43109','43111','43122','43126','43131','43135','43905','43144','43148','43153','43164','43171','43166') \n",
    "AND\n",
    "    `any` IN ('2020', '2019', '2018', '2017', '2016', '2015', '2014', '2013', '2012', '2011')\n",
    "AND\n",
    "    `renda` > 0\n",
    "\"\"\"\n",
    "\n",
    "# Results returned as JSON from API / converted to Python list of dictionaries by sodapy.\n",
    "results = client.get(\"qww9-bvhh\", query=query)\n",
    "\n",
    "# Convert to pandas DataFrame\n",
    "df = pd.DataFrame.from_records(results)\n",
    "df.to_pickle(\"output/preu_lloguer.pkl\")"
   ]
  },
  {
   "cell_type": "code",
   "execution_count": 5,
   "metadata": {},
   "outputs": [],
   "source": [
    "# Read file obtained from API\n",
    "df = pd.read_pickle(\"output/preu_lloguer.pkl\")\n",
    "\n",
    "# Rename columns and convert to Numbers\n",
    "df.rename(columns={'codi_territorial': 'codi_municipi', 'nom_territori': 'municipi'}, inplace=True)\n",
    "df[\"habitatges\"] = pd.to_numeric(df[\"habitatges\"])\n",
    "df[\"any\"] = pd.to_numeric(df[\"any\"])\n",
    "df[\"codi_municipi\"] = pd.to_numeric(df[\"codi_municipi\"])\n",
    "df[\"renda\"] = pd.to_numeric(df[\"renda\"])\n",
    "\n",
    "# Get longest period of each year (gener-desembre in most cases)\n",
    "group = df.groupby(['codi_municipi', 'any'])\n",
    "df = group.apply(lambda x: df.iloc[x['habitatges'].idxmax()])\n",
    "\n",
    "# Save into excel file\n",
    "df.to_excel(\"output/preu_lloguer.xlsx\", index=False)\n",
    "\n",
    "# TODO: Falta info de Nou de Gaià (3 anys), Salomó (4 anys), vespella de gaià, renau"
   ]
  }
 ],
 "metadata": {
  "interpreter": {
   "hash": "31f2aee4e71d21fbe5cf8b01ff0e069b9275f58929596ceb00d14d90e3e16cd6"
  },
  "kernelspec": {
   "display_name": "Python 3.8.9 64-bit",
   "name": "python3"
  },
  "language_info": {
   "codemirror_mode": {
    "name": "ipython",
    "version": 3
   },
   "file_extension": ".py",
   "mimetype": "text/x-python",
   "name": "python",
   "nbconvert_exporter": "python",
   "pygments_lexer": "ipython3",
   "version": "3.8.9"
  },
  "orig_nbformat": 4
 },
 "nbformat": 4,
 "nbformat_minor": 2
}
