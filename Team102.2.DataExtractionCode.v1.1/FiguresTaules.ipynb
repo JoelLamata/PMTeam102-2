{
 "cells": [
  {
   "cell_type": "code",
   "execution_count": null,
   "metadata": {},
   "outputs": [],
   "source": [
    "import pandas as pd\n",
    "import matplotlib.pyplot as plt\n",
    "import matplotlib\n",
    "%matplotlib inline\n",
    "matplotlib.style.use('ggplot')"
   ]
  },
  {
   "cell_type": "code",
   "execution_count": null,
   "metadata": {},
   "outputs": [],
   "source": [
    "# Load Excel tables into pandas dataframe\n",
    "xls = pd.ExcelFile('DataSprint.xlsx')\n",
    "df_poblacio = pd.read_excel(xls, 'Poblacio', index_col=0)\n",
    "df_demografia = pd.read_excel(xls, 'Demografia', index_col=0)\n",
    "df_lloguer = pd.read_excel(xls, 'Lloguer-Decada',  index_col=1)\n",
    "df_edat_sexe = pd.read_excel(xls, 'Poblacio-Edat-Sexe', index_col=2)\n",
    "#df_demografi_habitatges = pd.read_excel(xls, 'Demografia-habitatges')\n"
   ]
  },
  {
   "cell_type": "code",
   "execution_count": null,
   "metadata": {},
   "outputs": [],
   "source": [
    "# Plot rent of the last 10 years\n",
    "def plot_lloguer(x):\n",
    "    municipi = x.index[0] #x[\"codi_municipi\"].unique()[0]\n",
    "    plot = x.plot(x=\"any\", y=\"renda\", label=\"Price\", title=f\"Rent price ({municipi})\", style='.-')\n",
    "    plot.set_xlabel(\"Year\")\n",
    "\n",
    "group = df_lloguer.groupby(df_lloguer.index)\n",
    "group.apply(lambda x: plot_lloguer(x))\n"
   ]
  },
  {
   "cell_type": "code",
   "execution_count": null,
   "metadata": {},
   "outputs": [],
   "source": [
    "# Poblation by age and gender\n",
    "df_edat_sexe_total = df_edat_sexe.iloc[:, 2:].sum().copy()\n",
    "df_edat = df_edat_sexe_total.iloc[:6].copy()\n",
    "df_edat_sexe = df_edat_sexe_total.iloc[6:].copy()"
   ]
  },
  {
   "cell_type": "code",
   "execution_count": null,
   "metadata": {},
   "outputs": [],
   "source": [
    "plot_edat = df_edat.plot(kind=\"pie\", title = \"Població per edat del Tarragonès\", autopct='%1.1f%%')\n",
    "plot_edat.set_ylabel(\"\")\n",
    "plt.show()\n",
    "\n",
    "plot_edat_sexe = df_edat_sexe.plot(kind=\"pie\", title = \"Població per edat i sexe del Tarragonès\", autopct='%1.1f%%')\n",
    "plot_edat_sexe.set_ylabel(\"\")\n",
    "plt.show()"
   ]
  },
  {
   "cell_type": "code",
   "execution_count": null,
   "metadata": {},
   "outputs": [],
   "source": [
    "# Poblation plots\n",
    "df_poblacio[\"Taxa d'Atur\"].dropna().plot(kind = \"bar\", title = \"Taxa d'Atur per municipi\")\n",
    "plt.ylabel(\"Taxa d'Atur\")\n",
    "plt.show()\n",
    "\n",
    "df_poblacio[\"Renda familiar disponible per habitant\"].dropna().plot(kind = \"bar\", title = \"Renda familiar disponible per habitant\")\n",
    "plt.ylabel(\"Renda per habitant\")\n",
    "plt.show()\n",
    "\n",
    "df_poblacio[\"Mínims per accedir al mercat de lloguer\"].dropna().plot(kind = \"bar\", title = \"Mínims per accedir al mercat de lloguer\")\n",
    "plt.ylabel(\"Mínims per accedir al mercat de lloguer\")\n",
    "plt.show()"
   ]
  }
 ],
 "metadata": {
  "interpreter": {
   "hash": "31f2aee4e71d21fbe5cf8b01ff0e069b9275f58929596ceb00d14d90e3e16cd6"
  },
  "kernelspec": {
   "display_name": "Python 3.8.9 64-bit",
   "name": "python3"
  },
  "language_info": {
   "codemirror_mode": {
    "name": "ipython",
    "version": 3
   },
   "file_extension": ".py",
   "mimetype": "text/x-python",
   "name": "python",
   "nbconvert_exporter": "python",
   "pygments_lexer": "ipython3",
   "version": "3.8.9"
  },
  "orig_nbformat": 4
 },
 "nbformat": 4,
 "nbformat_minor": 2
}
