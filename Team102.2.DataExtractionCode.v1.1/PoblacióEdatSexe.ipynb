{
 "cells": [
  {
   "cell_type": "code",
   "execution_count": 17,
   "metadata": {},
   "outputs": [],
   "source": [
    "import pandas as pd\n",
    "from sodapy import Socrata\n",
    "import pickle, io"
   ]
  },
  {
   "cell_type": "code",
   "execution_count": 18,
   "metadata": {},
   "outputs": [],
   "source": [
    "#https://analisi.transparenciacatalunya.cat/resource/b4rr-d25b.json\n",
    "\n",
    "client = Socrata(\"analisi.transparenciacatalunya.cat\",\n",
    "                 \"s4YrtY4AKxmM0rFio3wIMDn8Y\")\n",
    "\n",
    "codis_municipis = ['430120', '439076', '430430', '430477', '430509', '430957', '430976', '431009', '431037', '431093', '431114', '431227', '431264', '431310', '431359', '439057', '431444', '431482', '431536', '431649', '431711', '431665']\n",
    "\n",
    "query = f\"\"\"\n",
    "SELECT *\n",
    "WHERE \n",
    "    `codi` IN ({str(codis_municipis)[1:-1]})\n",
    "AND\n",
    "    any = '2020'\n",
    "\"\"\"\n",
    "\n",
    "# Results returned as JSON from API / converted to Python list of dictionaries by sodapy.\n",
    "results = client.get(\"b4rr-d25b\", query=query)\n",
    "\n",
    "# Convert to pandas DataFrame\n",
    "df = pd.DataFrame.from_records(results)\n",
    "df.to_pickle(\"output/poblacio_edat_sexe.pkl\")"
   ]
  },
  {
   "cell_type": "code",
   "execution_count": 22,
   "metadata": {},
   "outputs": [],
   "source": [
    "# Read file obtained from API\n",
    "df = pd.read_pickle(\"output/poblacio_edat_sexe.pkl\")\n",
    "\n",
    "# Rename columns and convert to numbers\n",
    "df.rename(columns={'codi': 'codi_municipi', 'literal': 'municipi'}, inplace=True)\n",
    "df[\"homes_de_0_a_14_anys\"] = pd.to_numeric(df[\"homes_de_0_a_14_anys\"])\n",
    "df[\"homes_de_15_a_64_anys\"] = pd.to_numeric(df[\"homes_de_15_a_64_anys\"])\n",
    "df[\"homes_de_65_anys_i_m_s\"] = pd.to_numeric(df[\"homes_de_65_anys_i_m_s\"])\n",
    "df[\"dones_de_0_a_14_anys\"] = pd.to_numeric(df[\"dones_de_0_a_14_anys\"])\n",
    "df[\"dones_de_15_a_64_anys\"] = pd.to_numeric(df[\"dones_de_15_a_64_anys\"])\n",
    "df[\"dones_de_65_anys_i_m_s\"] = pd.to_numeric(df[\"dones_de_65_anys_i_m_s\"])\n",
    "df[\"total_de_0_a_14_anys\"] = pd.to_numeric(df[\"total_de_0_a_14_anys\"])\n",
    "df[\"total_de_15_a_64_anys\"] = pd.to_numeric(df[\"total_de_15_a_64_anys\"])\n",
    "df[\"total_de_65_anys_i_m_s\"] = pd.to_numeric(df[\"total_de_65_anys_i_m_s\"])\n",
    "df[\"codi_municipi\"] = pd.to_numeric(df[\"codi_municipi\"])\n",
    "df[\"any\"] = pd.to_numeric(df[\"any\"])\n",
    "\n",
    "# Save into excel file\n",
    "df.to_excel(\"output/poblacio_edat_sexe.xlsx\", index=False)"
   ]
  },
  {
   "cell_type": "code",
   "execution_count": 14,
   "metadata": {},
   "outputs": [
    {
     "data": {
      "text/plain": [
       "Index(['any', 'codi', 'literal', 'homes_de_0_a_14_anys',\n",
       "       'homes_de_15_a_64_anys', 'homes_de_65_anys_i_m_s',\n",
       "       'dones_de_0_a_14_anys', 'dones_de_15_a_64_anys',\n",
       "       'dones_de_65_anys_i_m_s', 'total_de_0_a_14_anys',\n",
       "       'total_de_15_a_64_anys', 'total_de_65_anys_i_m_s'],\n",
       "      dtype='object')"
      ]
     },
     "execution_count": 14,
     "metadata": {},
     "output_type": "execute_result"
    }
   ],
   "source": []
  },
  {
   "cell_type": "code",
   "execution_count": null,
   "metadata": {},
   "outputs": [],
   "source": []
  },
  {
   "cell_type": "code",
   "execution_count": null,
   "metadata": {},
   "outputs": [],
   "source": []
  }
 ],
 "metadata": {
  "interpreter": {
   "hash": "31f2aee4e71d21fbe5cf8b01ff0e069b9275f58929596ceb00d14d90e3e16cd6"
  },
  "kernelspec": {
   "display_name": "Python 3.8.9 64-bit",
   "name": "python3"
  },
  "language_info": {
   "codemirror_mode": {
    "name": "ipython",
    "version": 3
   },
   "file_extension": ".py",
   "mimetype": "text/x-python",
   "name": "python",
   "nbconvert_exporter": "python",
   "pygments_lexer": "ipython3",
   "version": "3.8.9"
  },
  "orig_nbformat": 4
 },
 "nbformat": 4,
 "nbformat_minor": 2
}
